{
 "cells": [
  {
   "cell_type": "markdown",
   "metadata": {},
   "source": [
    "<img src=\"https://github.com/hernancontigiani/ceia_memorias_especializacion/raw/master/Figures/logoFIUBA.jpg\" width=\"500\" align=\"center\">\n",
    "\n",
    "# Algoritmos genéticos"
   ]
  },
  {
   "cell_type": "markdown",
   "metadata": {},
   "source": [
    "### Integrantes del grupo:\n",
    "- David Guarín Castro\n",
    "- Federico Otero - fede.e.otero@gmail.com\n",
    "\n"
   ]
  },
  {
   "cell_type": "code",
   "execution_count": 1,
   "metadata": {},
   "outputs": [],
   "source": [
    "# Importo librerias\n",
    "import random\n",
    "import matplotlib.pyplot as plt"
   ]
  },
  {
   "cell_type": "markdown",
   "metadata": {},
   "source": [
    "### Ejercicio 1"
   ]
  },
  {
   "cell_type": "markdown",
   "metadata": {},
   "source": [
    "Mediante un algoritmo genético desarrollado en Python encontrar el valor máximo de la función **y = x^2.**\n",
    "\n",
    "**a. (Valor 0.6 puntos) Indicar en el informe (en .pdf) el resultado de la solución encontrada (valor de “x”) si se ejecuta el algoritmo 10 lanzamientos. Los parámetros del algoritmo son:**\n",
    "\n",
    "- Selección por Ruleta\n",
    "- Intervalo de la variable de decisión: [0, 31] ∈ Z\n",
    "- Aplicar elitismo: Si\n",
    "- Gen de cruza monopunto aleatorio\n",
    "- Probabilidad de cruce 0.92\n",
    "- Probabilidad de mutación 0.1\n",
    "- Tamaño de la población: 4\n",
    "- Generaciones: 10\n",
    "\n",
    "**b. (Valor 0.4 puntos) Indicar la URL del repositorio (o URL Colab) donde se encuentra el algoritmo resuelto.**"
   ]
  },
  {
   "cell_type": "code",
   "execution_count": 2,
   "metadata": {},
   "outputs": [],
   "source": [
    "# Defino la función de aptitud\n",
    "def aptitud(cromosoma):\n",
    "    x = int(cromosoma, 2)\n",
    "    return x ** 2"
   ]
  },
  {
   "cell_type": "code",
   "execution_count": 3,
   "metadata": {},
   "outputs": [],
   "source": [
    "# Inicializo la poblacion\n",
    "def inicializar_poblacion(tamanio_poblacion, longitud_cromosoma):\n",
    "    poblacion = []\n",
    "    for _ in range(tamanio_poblacion):\n",
    "        cromosoma = \"\"\n",
    "        for _ in range(longitud_cromosoma):\n",
    "            cromosoma = cromosoma + str(random.randint(0, 1))\n",
    "        poblacion.append(cromosoma)\n",
    "    return poblacion"
   ]
  },
  {
   "cell_type": "code",
   "execution_count": 4,
   "metadata": {},
   "outputs": [],
   "source": [
    "# Seleccion por ruleta\n",
    "def seleccion_ruleta(poblacion, aptitud_total):\n",
    "    probabilidades = []\n",
    "    for individuo in poblacion:\n",
    "        prob = aptitud(individuo) / aptitud_total\n",
    "        probabilidades.append(prob)\n",
    "    probabilidades_acumuladas = []\n",
    "    suma = 0\n",
    "    for prob in probabilidades:\n",
    "        suma = suma + prob\n",
    "        probabilidades_acumuladas.append(suma)\n",
    "\n",
    "    r = random.random()\n",
    "    for i, acumulada in enumerate(probabilidades_acumuladas):\n",
    "        if r <= acumulada:\n",
    "            return poblacion[i]"
   ]
  },
  {
   "cell_type": "code",
   "execution_count": 5,
   "metadata": {},
   "outputs": [],
   "source": [
    "# Cruce monopunto con probabilidad de cruza pc = 0.92\n",
    "def cruce_mono_punto(progenitor1, progenitor2, tasa_cruce):\n",
    "    if random.random() < tasa_cruce:\n",
    "        punto_cruce = random.randint(1, len(progenitor1) - 1)  # elijo aleatoriamente un punto de cruce\n",
    "        descendiente1 = progenitor1[:punto_cruce] + progenitor2[punto_cruce:]\n",
    "        descendiente2 = progenitor2[:punto_cruce] + progenitor1[punto_cruce:]\n",
    "    else:\n",
    "        descendiente1, descendiente2 = progenitor1, progenitor2\n",
    "    return descendiente1, descendiente2"
   ]
  },
  {
   "cell_type": "code",
   "execution_count": 6,
   "metadata": {},
   "outputs": [],
   "source": [
    "# Mutacion\n",
    "def mutacion(cromosoma, tasa_mutacion):\n",
    "    cromosoma_mutado = \"\"\n",
    "    for bit in cromosoma:\n",
    "        if random.random() < tasa_mutacion:\n",
    "            cromosoma_mutado = cromosoma_mutado + str(int(not int(bit)))\n",
    "        else:\n",
    "            cromosoma_mutado = cromosoma_mutado + bit\n",
    "    return cromosoma_mutado"
   ]
  },
  {
   "cell_type": "code",
   "execution_count": 50,
   "metadata": {},
   "outputs": [],
   "source": [
    "# Esta funcion constituye un algoritmo genético que selecciona por ruleta, aplica cruces mono-punto, mutaciones y elitismo \n",
    "def ag_ruleta(tamanio_poblacion, longitud_cromosoma, tasa_mutacion, tasa_cruce, generaciones):\n",
    "    poblacion = inicializar_poblacion(tamanio_poblacion, longitud_cromosoma)\n",
    "\n",
    "    #print(f'Población: {poblacion}')\n",
    "\n",
    "    for generacion in range(generaciones):\n",
    "        print(\"Generación:\", generacion + 1)\n",
    "        aptitud_total = 0\n",
    "        for cromosoma in poblacion:\n",
    "            aptitud_total = aptitud_total + aptitud(cromosoma)\n",
    "\n",
    "        print(\"Sumatoria de aptitudes total:\", aptitud_total)\n",
    "\n",
    "        # Selección de progenitores\n",
    "        progenitores = []\n",
    "        for _ in range(tamanio_poblacion):\n",
    "            progenitores.append(seleccion_ruleta(poblacion, aptitud_total))\n",
    "        #print(f'Veamos los progenitores: {progenitores}')\n",
    "\n",
    "        # Cruce\n",
    "        descendientes = []\n",
    "        for i in range(0, tamanio_poblacion, 2):\n",
    "            descendiente1, descendiente2 = cruce_mono_punto(progenitores[i], progenitores[i + 1], tasa_cruce)\n",
    "            descendientes.extend([descendiente1, descendiente2])\n",
    "\n",
    "        #print(f'Progenitores: {progenitores}')\n",
    "        #print(f'Descendientes: {descendientes}')\n",
    "\n",
    "        # Mutacion\n",
    "        descendientes_mutados = []\n",
    "        for descendiente in descendientes:\n",
    "            descendientes_mutados.append(mutacion(descendiente, tasa_mutacion))\n",
    "\n",
    "        #print(f'Descendientes mutados:  {descendientes_mutados}')\n",
    "\n",
    "        # Elitismo\n",
    "        poblacion.sort(key=aptitud)\n",
    "        descendientes_mutados.sort(key=aptitud, reverse=True)\n",
    "        for i in range(len(descendientes_mutados)):\n",
    "            if aptitud(descendientes_mutados[i]) > aptitud(poblacion[i]):\n",
    "                poblacion[i] = descendientes_mutados[i]\n",
    "\n",
    "        mejor_individuo = max(poblacion, key=aptitud)\n",
    "        print(\"Mejor individuo:\", int(mejor_individuo, 2), \"Aptitud:\", aptitud(mejor_individuo))\n",
    "        print(\"_________________________________________________________________________________\")\n",
    "\n",
    "    return max(poblacion, key=aptitud)"
   ]
  },
  {
   "cell_type": "code",
   "execution_count": 51,
   "metadata": {},
   "outputs": [],
   "source": [
    "# Definimos los parámetros\n",
    "TAMANIO_POBLACION, LONGITUD_CROMOSOMA, PROB_MUTACION, PROB_CRUCE, GENERACIONES = (4, 5, 0.1, 0.92, 10)"
   ]
  },
  {
   "cell_type": "code",
   "execution_count": 52,
   "metadata": {},
   "outputs": [
    {
     "name": "stdout",
     "output_type": "stream",
     "text": [
      "_________________________________________________________________________________\n",
      "\n",
      "Generación: 1\n",
      "Sumatoria de aptitudes total: 0.00714135636649647\n",
      "progenitores: ['11000']\n",
      "progenitores: ['11000', '00000']\n",
      "progenitores: ['11000', '00000', '00011']\n",
      "progenitores: ['11000', '00000', '00011', '11111']\n",
      "Mejor individuo: 8 Aptitud: 0.004444424691445815\n",
      "_________________________________________________________________________________\n",
      "Generación: 2\n",
      "Sumatoria de aptitudes total: 0.011394973365702303\n",
      "progenitores: ['01000']\n",
      "progenitores: ['01000', '01000']\n",
      "progenitores: ['01000', '01000', '01000']\n",
      "progenitores: ['01000', '01000', '01000', '00011']\n",
      "Mejor individuo: 9 Aptitud: 0.00591712475074112\n",
      "_________________________________________________________________________________\n",
      "Generación: 3\n",
      "Sumatoria de aptitudes total: 0.016089313635914707\n",
      "progenitores: ['01000']\n",
      "progenitores: ['01000', '01000']\n",
      "progenitores: ['01000', '01000', '01000']\n",
      "progenitores: ['01000', '01000', '01000', '01000']\n",
      "Mejor individuo: 9 Aptitud: 0.00591712475074112\n",
      "_________________________________________________________________________________\n",
      "Generación: 4\n",
      "Sumatoria de aptitudes total: 0.019250398825078563\n",
      "progenitores: ['01000']\n",
      "progenitores: ['01000', '01000']\n",
      "progenitores: ['01000', '01000', '01000']\n",
      "progenitores: ['01000', '01000', '01000', '01000']\n",
      "Mejor individuo: 10 Aptitud: 0.008264394509136288\n",
      "_________________________________________________________________________________\n",
      "Generación: 5\n",
      "Sumatoria de aptitudes total: 0.024543068702064345\n",
      "progenitores: ['01010']\n",
      "progenitores: ['01010', '01001']\n",
      "progenitores: ['01010', '01001', '01010']\n",
      "progenitores: ['01010', '01001', '01010', '01001']\n",
      "Mejor individuo: 15 Aptitud: 0.9990009990009991\n",
      "_________________________________________________________________________________\n",
      "Generación: 6\n",
      "Sumatoria de aptitudes total: 1.0214469127700128\n",
      "progenitores: ['01111']\n",
      "progenitores: ['01111', '01111']\n",
      "progenitores: ['01111', '01111', '01111']\n",
      "progenitores: ['01111', '01111', '01111', '01111']\n",
      "Mejor individuo: 15 Aptitud: 0.9990009990009991\n",
      "_________________________________________________________________________________\n",
      "Generación: 7\n",
      "Sumatoria de aptitudes total: 1.0278753146177089\n",
      "progenitores: ['01111']\n",
      "progenitores: ['01111', '01111']\n",
      "progenitores: ['01111', '01111', '01111']\n",
      "progenitores: ['01111', '01111', '01111', '01111']\n",
      "Mejor individuo: 15 Aptitud: 0.9990009990009991\n",
      "_________________________________________________________________________________\n",
      "Generación: 8\n",
      "Sumatoria de aptitudes total: 3.108101763806686\n",
      "progenitores: ['01111']\n",
      "progenitores: ['01111', '01111']\n",
      "progenitores: ['01111', '01111', '01111']\n",
      "progenitores: ['01111', '01111', '01111', '01111']\n",
      "Mejor individuo: 15 Aptitud: 0.9990009990009991\n",
      "_________________________________________________________________________________\n",
      "Generación: 9\n",
      "Sumatoria de aptitudes total: 3.9960039960039966\n",
      "progenitores: ['01111']\n",
      "progenitores: ['01111', '01111']\n",
      "progenitores: ['01111', '01111', '01111']\n",
      "progenitores: ['01111', '01111', '01111', '01111']\n",
      "Mejor individuo: 15 Aptitud: 0.9990009990009991\n",
      "_________________________________________________________________________________\n",
      "Generación: 10\n",
      "Sumatoria de aptitudes total: 3.9960039960039966\n",
      "progenitores: ['01111']\n",
      "progenitores: ['01111', '01111']\n",
      "progenitores: ['01111', '01111', '01111']\n",
      "progenitores: ['01111', '01111', '01111', '01111']\n",
      "Mejor individuo: 15 Aptitud: 0.9990009990009991\n",
      "_________________________________________________________________________________\n",
      "Mejor solución: 15 Aptitud: 0.9990009990009991\n"
     ]
    }
   ],
   "source": [
    "print(\"_________________________________________________________________________________\")\n",
    "print()\n",
    "mejor_solucion = ag_ruleta(TAMANIO_POBLACION, LONGITUD_CROMOSOMA, PROB_MUTACION, PROB_CRUCE, GENERACIONES)\n",
    "print(\"Mejor solución:\", int(mejor_solucion, 2), \"Aptitud:\", aptitud(mejor_solucion))\n"
   ]
  },
  {
   "cell_type": "markdown",
   "metadata": {},
   "source": [
    "El punto **a** fue desarrollado anteriormente. Tanto sus resultados como el punto **b** figuran en el *pdf*."
   ]
  },
  {
   "cell_type": "markdown",
   "metadata": {},
   "source": [
    "### Ejercicio 2"
   ]
  },
  {
   "cell_type": "markdown",
   "metadata": {},
   "source": [
    "Resolver las siguientes consignas:\n",
    "**Minimizar** mediante tres algoritmos genéticos desarrollados en Python la función **y = x^2**.\n",
    "\n",
    "**a. (Valor 0.5 puntos) Indicar en el informe (en .pdf) el resultado de la solución encontrada (valor de “x”) si se ejecutan los 3 algoritmos un total de 30 lanzamientos cada uno. Los parámetros de los algoritmos son:**\n",
    "- Selección por Ranking, Ruleta y Torneo\n",
    "- Intervalo de la variable de decisión: [-31, 31] ∈ R (con un dígito decimal)\n",
    "- Aplicar elitismo: Si (solo en el método Ruleta y Ranking)\n",
    "- Gen de cruza monopunto aleatorio\n",
    "- Probabilidad de cruce 0.85\n",
    "- Probabilidad de mutación 0.09\n",
    "- Tamaño de la población: 4\n",
    "- Generaciones: 10\n",
    "\n",
    "**b. (Valor 0.75 puntos) Completar la siguiente tabla en base a las 30 ejecuciones con los parámetros señalados.**\n",
    "\n",
    "**c. (Valor 0.75 puntos) Explicar (en el .pdf) una interpretación de los resultados obtenidos en el ítem anterior.**\n",
    "\n",
    "**d. (Valor 1 punto) Modificar los parámetros Pm, Tamaño de la población y Generaciones de modo tal que se consiga encontrar una combinación que permita obtener el mejor valor óptimo y su correspondiente solución (para cada algoritmo habrá una combinación diferente). Transcribir las combinaciones encontradas en el .pdf.**\n",
    "\n",
    "**e. (Valor 0.5 puntos) Realizar 6 curvas de convergencia; 3 correspondientes a los algoritmos con los parámetros originales y 3 correspondientes a los algoritmos con los mejores parámetros encontrados en el ítem d. Mostrar las 6 curvas en el .pdf. Las curvas deben contener título, leyenda y etiquetas en los ejes.**\n",
    "\n",
    "**f. (Valor 0.5 puntos) Interpretar tanto las combinaciones de parámetros encontradas en cada uno de los 3 algoritmos como sus graficas de convergencia en el ítem anterior y explicarlas en el .pdf.**"
   ]
  },
  {
   "cell_type": "markdown",
   "metadata": {},
   "source": [
    "Los puntos **b**, **c** y **f** se detallan en el *pdf*."
   ]
  },
  {
   "cell_type": "code",
   "execution_count": 11,
   "metadata": {},
   "outputs": [],
   "source": [
    "def inicializar_poblacion(tamanio_poblacion, longitud_cromosoma):\n",
    "    poblacion = []\n",
    "    for _ in range(tamanio_poblacion):\n",
    "        cromosoma = ''\n",
    "        for _ in range(longitud_cromosoma):\n",
    "            cromosoma = cromosoma+str(random.randint(0, 1))\n",
    "        poblacion.append(cromosoma)\n",
    "    return poblacion"
   ]
  },
  {
   "cell_type": "code",
   "execution_count": 12,
   "metadata": {},
   "outputs": [],
   "source": [
    "def binario_a_decimal(cromosoma):\n",
    "    decimal = int(cromosoma, 2)\n",
    "    x = X_MIN + decimal * (X_MAX - X_MIN) / ((2 ** LONGITUD_CROMOSOMA) - 1)\n",
    "    return x"
   ]
  },
  {
   "cell_type": "code",
   "execution_count": 13,
   "metadata": {},
   "outputs": [],
   "source": [
    "def funcion_objetivo(x):\n",
    "    return x ** 2"
   ]
  },
  {
   "cell_type": "code",
   "execution_count": 14,
   "metadata": {},
   "outputs": [],
   "source": [
    "def aptitud(cromosoma):\n",
    "    x = binario_a_decimal(cromosoma)\n",
    "    return 1 / (funcion_objetivo(x) + EPSILON)"
   ]
  },
  {
   "cell_type": "code",
   "execution_count": 15,
   "metadata": {},
   "outputs": [],
   "source": [
    "# Selección por ruleta\n",
    "def seleccion_ruleta(poblacion, aptitud_total):\n",
    "    probabilidades = []\n",
    "    for individuo in poblacion:\n",
    "        prob = aptitud(individuo) / aptitud_total\n",
    "        probabilidades.append(prob)\n",
    "\n",
    "    probabilidades_acumuladas = []\n",
    "    suma = 0\n",
    "    for prob in probabilidades:\n",
    "        suma += prob\n",
    "        probabilidades_acumuladas.append(suma)\n",
    "\n",
    "    r = random.random()\n",
    "    for i, acumulada in enumerate(probabilidades_acumuladas):\n",
    "        if r <= acumulada:\n",
    "            return poblacion[i]"
   ]
  },
  {
   "cell_type": "code",
   "execution_count": 41,
   "metadata": {},
   "outputs": [],
   "source": [
    "# Selección por torneo\n",
    "def seleccion_torneo(poblacion, tamanio_torneo=TAMANIO_TORNEO):\n",
    "    progenitores = []\n",
    "    for _ in range(len(poblacion)):\n",
    "        candidatos = random.sample(poblacion, tamanio_torneo)\n",
    "        progenitor = max(candidatos, key=aptitud)  # se selecciona el mejor individuo del torneo\n",
    "        progenitores.append(progenitor)\n",
    "    return progenitores"
   ]
  },
  {
   "cell_type": "code",
   "execution_count": 66,
   "metadata": {},
   "outputs": [],
   "source": [
    "# Selección por ranking lineal\n",
    "def seleccion_ranking(poblacion):\n",
    "    aptitudes = []\n",
    "    for individuo in poblacion:\n",
    "        aptitudes.append(aptitud(individuo))\n",
    "    poblacion_ordenada = sorted(zip(poblacion, aptitudes), key=lambda x: x[1])\n",
    "\n",
    "    N = len(poblacion)\n",
    "    s = 1.7\n",
    "    probabilidades = []\n",
    "    for i in range(N):\n",
    "        prob = (2 - s) / N + (2 * i * (s - 1)) / (N * (N - 1))\n",
    "        probabilidades.append(prob)\n",
    "\n",
    "    r = random.random()\n",
    "    suma = 0\n",
    "    for i in range(N):\n",
    "        suma = suma + probabilidades[i]\n",
    "        if r <= suma:\n",
    "            return poblacion_ordenada[i][0]"
   ]
  },
  {
   "cell_type": "code",
   "execution_count": 16,
   "metadata": {},
   "outputs": [],
   "source": [
    "def cruce_mono_punto(progenitor1, progenitor2, tasa_cruce):\n",
    "    if random.random() < tasa_cruce:\n",
    "        punto_cruce = random.randint(1, len(progenitor1) - 1)\n",
    "        descendiente1 = progenitor1[:punto_cruce] + progenitor2[punto_cruce:]\n",
    "        descendiente2 = progenitor2[:punto_cruce] + progenitor1[punto_cruce:]\n",
    "    else:\n",
    "        descendiente1, descendiente2 = progenitor1, progenitor2\n",
    "    return descendiente1, descendiente2"
   ]
  },
  {
   "cell_type": "code",
   "execution_count": 17,
   "metadata": {},
   "outputs": [],
   "source": [
    "def mutacion(cromosoma, tasa_mutacion):\n",
    "    cromosoma_mutado = \"\"\n",
    "    for bit in cromosoma:\n",
    "        if random.random() < tasa_mutacion:\n",
    "            cromosoma_mutado = cromosoma_mutado + str(int(not int(bit)))\n",
    "        else:\n",
    "            cromosoma_mutado = cromosoma_mutado + bit\n",
    "    return cromosoma_mutado"
   ]
  },
  {
   "cell_type": "code",
   "execution_count": 68,
   "metadata": {},
   "outputs": [],
   "source": [
    "def algoritmo_genetico(tamanio_poblacion, longitud_cromosoma, tasa_mutacion, tasa_cruce, generaciones, tipo_seleccion):\n",
    "    poblacion = inicializar_poblacion(tamanio_poblacion, longitud_cromosoma)\n",
    "    resultados = []\n",
    "    # mejor_funcion_objetivo_generaciones = []  # Lista para almacenar la aptitud del mejor individuo y grficar luego\n",
    "\n",
    "    for generacion in range(generaciones):\n",
    "        print(\"Generación:\", generacion + 1)\n",
    "        aptitud_total = sum(aptitud(cromosoma) for cromosoma in poblacion)\n",
    "        print(\"Aptitud total:\", aptitud_total)\n",
    "\n",
    "        # Selección de progenitores\n",
    "        if tipo_seleccion == 'torneo':\n",
    "            progenitores = seleccion_torneo(poblacion)\n",
    "        elif tipo_seleccion == 'ruleta':\n",
    "            progenitores = []\n",
    "            for _ in range(tamanio_poblacion):\n",
    "                progenitores.append(seleccion_ruleta(poblacion, aptitud_total))\n",
    "        elif tipo_seleccion == 'ranking':\n",
    "            progenitores = []\n",
    "            for _ in range(tamanio_poblacion):\n",
    "                progenitores.append(seleccion_ranking(poblacion))\n",
    "        \n",
    "        print(f'Tipo de seleccion: {tipo_seleccion}, progenitores: {progenitores}')\n",
    "\n",
    "        # Cruce mono-punto\n",
    "        descendientes = []\n",
    "        for i in range(0, tamanio_poblacion, 2):\n",
    "            descendiente1, descendiente2 = cruce_mono_punto(progenitores[i], progenitores[i + 1], tasa_cruce)\n",
    "            descendientes.extend([descendiente1, descendiente2])\n",
    "\n",
    "        # Mutacion\n",
    "        descendientes_mutados = []\n",
    "        for descendiente in descendientes:\n",
    "            descendientes_mutados.append(mutacion(descendiente, tasa_mutacion))\n",
    "\n",
    "        # Elitismo\n",
    "        if tipo_seleccion == 'torneo':\n",
    "            poblacion = descendientes_mutados\n",
    "        else:\n",
    "            poblacion.sort(key=aptitud)\n",
    "            descendientes_mutados.sort(key=aptitud, reverse=True)\n",
    "            for i in range(len(descendientes_mutados)):\n",
    "                if aptitud(descendientes_mutados[i]) > aptitud(poblacion[i]):\n",
    "                    poblacion[i] = descendientes_mutados[i]\n",
    "\n",
    "        # Mostrar el mejor individuo de la generacion\n",
    "        mejor_individuo = max(poblacion, key=aptitud)  # Buscar el maximo para la aptitud\n",
    "        #mejor_funcion_objetivo_generaciones.append(funcion_objetivo(binario_a_decimal(mejor_individuo)))\n",
    "\n",
    "        print(\"mejor individuo en binario: \", mejor_individuo)\n",
    "        print(\"Mejor individuo:\", binario_a_decimal(mejor_individuo), \"Aptitud:\", aptitud(mejor_individuo))\n",
    "        print(\"_________________________________________________________________________________\")\n",
    "\n",
    "        resultados.append([binario_a_decimal(mejor_individuo), aptitud(mejor_individuo)])\n",
    "\n",
    "    # Graficar la evolución de la aptitud\n",
    "    # plt.plot(range(1, generaciones + 1), mejor_funcion_objetivo_generaciones, marker='o')\n",
    "    # plt.xlabel('Generación')\n",
    "    # plt.ylabel('Valor de la Función Objetivo')\n",
    "    # plt.title('Curva de Convergencia del Algoritmo Genético')\n",
    "    # plt.grid(True)\n",
    "    # plt.show()\n",
    "    return max(poblacion, key=aptitud), resultados  # se retorna el mejor individuo"
   ]
  },
  {
   "cell_type": "code",
   "execution_count": 59,
   "metadata": {},
   "outputs": [],
   "source": [
    "TAMANIO_POBLACION, LONGITUD_CROMOSOMA, PROB_MUTACION, PROB_CRUCE, GENERACIONES, X_MIN, X_MAX, EPSILON, TAMANIO_TORNEO = \\\n",
    "(4, 10, 0.09, 0.85, 30, -31, 31, 0.001, 3)"
   ]
  },
  {
   "cell_type": "code",
   "execution_count": null,
   "metadata": {},
   "outputs": [],
   "source": [
    "tipos_seleccion = ['ruleta', 'torneo', 'ranking']\n",
    "comparacion_resultados = {}\n",
    "for s in tipos_seleccion:\n",
    "    print(f'Tipo de mecanismo de seleccion del algoritmo: por {s}')\n",
    "    print(\"_________________________________________________________________________________\")\n",
    "    print()\n",
    "    mejor_solucion, resultados = algoritmo_genetico(TAMANIO_POBLACION, LONGITUD_CROMOSOMA, PROB_MUTACION, PROB_CRUCE, GENERACIONES, s)\n",
    "    comparacion_resultados[s] = resultados\n",
    "    print(\"Mejor solución:\", binario_a_decimal(mejor_solucion), \"Aptitud:\", aptitud(mejor_solucion))"
   ]
  },
  {
   "cell_type": "code",
   "execution_count": 77,
   "metadata": {},
   "outputs": [
    {
     "data": {
      "text/plain": [
       "[[11.727272727272727, 0.007271144774441578],\n",
       " [7.848484848484851, 0.016233841495305837],\n",
       " [7.848484848484851, 0.016233841495305837],\n",
       " [7.848484848484851, 0.016233841495305837],\n",
       " [7.848484848484851, 0.016233841495305837],\n",
       " [7.848484848484851, 0.016233841495305837],\n",
       " [7.848484848484851, 0.016233841495305837],\n",
       " [-7.666666666666668, 0.017012943069021506],\n",
       " [-7.545454545454547, 0.0175639243380977],\n",
       " [-7.545454545454547, 0.0175639243380977],\n",
       " [-6.6969696969696955, 0.02229634363100236],\n",
       " [-6.6969696969696955, 0.02229634363100236],\n",
       " [-6.6969696969696955, 0.02229634363100236],\n",
       " [-5.969696969696969, 0.02805971406043414],\n",
       " [-5.969696969696969, 0.02805971406043414],\n",
       " [-2.333333333333332, 0.18363973963965818],\n",
       " [-2.333333333333332, 0.18363973963965818],\n",
       " [-2.333333333333332, 0.18363973963965818],\n",
       " [-0.3939393939393945, 6.402530439946129],\n",
       " [-0.3939393939393945, 6.402530439946129],\n",
       " [-0.15151515151515227, 41.7417302311315],\n",
       " [-0.15151515151515227, 41.7417302311315],\n",
       " [-0.030303030303031164, 521.3020584011347],\n",
       " [-0.030303030303031164, 521.3020584011347],\n",
       " [-0.030303030303031164, 521.3020584011347],\n",
       " [-0.030303030303031164, 521.3020584011347],\n",
       " [-0.030303030303031164, 521.3020584011347],\n",
       " [-0.030303030303031164, 521.3020584011347],\n",
       " [-0.030303030303031164, 521.3020584011347],\n",
       " [-0.030303030303031164, 521.3020584011347]]"
      ]
     },
     "execution_count": 77,
     "metadata": {},
     "output_type": "execute_result"
    }
   ],
   "source": [
    "comparacion_resultados['ranking']"
   ]
  },
  {
   "cell_type": "code",
   "execution_count": null,
   "metadata": {},
   "outputs": [],
   "source": []
  }
 ],
 "metadata": {
  "kernelspec": {
   "display_name": ".venv",
   "language": "python",
   "name": "python3"
  },
  "language_info": {
   "codemirror_mode": {
    "name": "ipython",
    "version": 3
   },
   "file_extension": ".py",
   "mimetype": "text/x-python",
   "name": "python",
   "nbconvert_exporter": "python",
   "pygments_lexer": "ipython3",
   "version": "3.9.6"
  }
 },
 "nbformat": 4,
 "nbformat_minor": 2
}
